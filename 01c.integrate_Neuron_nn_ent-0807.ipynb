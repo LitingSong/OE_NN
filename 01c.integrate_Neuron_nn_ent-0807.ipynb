{
 "cells": [
  {
   "cell_type": "code",
   "execution_count": 1,
   "id": "d3809629-09d7-406a-b167-51ab7b08bf29",
   "metadata": {},
   "outputs": [],
   "source": [
    "import os\n",
    "os.environ['OPENBLAS_NUM_THREADS'] = '1'\n",
    "import seaborn\n",
    "import scanpy as sc\n",
    "import scanpy.external as sce\n",
    "import anndata as ad\n",
    "import pandas as pd\n",
    "# Data retrieval\n",
    "import pooch\n",
    "import scanpy.external as sce\n",
    "\n",
    "sc.settings.set_figure_params(dpi=100, facecolor=\"white\")\n",
    "\n",
    "cmc_dir='/sc/arion/projects/CommonMind/roussp01a/ENT/snRNAseq/'\n"
   ]
  },
  {
   "cell_type": "code",
   "execution_count": 2,
   "id": "a08504f7-f7ea-40b1-861a-3c2e79838ba7",
   "metadata": {},
   "outputs": [],
   "source": [
    "ent_adata = sc.read(cmc_dir+'qc_scanpy/ent_N_cluster.h5ad')\n",
    "nn_adata = sc.read(cmc_dir+'qc_scanpy/nn_N_clusters.h5ad')\n",
    "\n",
    "ent_adata.obs['dataset']='ENT'\n",
    "nn_adata.obs['dataset']='NN'\n",
    "\n",
    "nn_adata.obs['Set']=nn_adata.obs['orig.ident']\n",
    "\n",
    "adata=ad.concat([ent_adata,nn_adata], join=\"outer\")\n",
    "adata.obs.Sex[adata.obs.Sex=='male']='Male'\n",
    "\n",
    "sc.pp.filter_genes(adata, min_cells=3)\n",
    "\n",
    "del adata.obsm"
   ]
  },
  {
   "cell_type": "code",
   "execution_count": 3,
   "id": "e90a29eb-4c3c-4df1-9cb8-7ecccf496a1a",
   "metadata": {},
   "outputs": [],
   "source": [
    "sc.write(cmc_dir+\"qc_scanpy/ent_nn_merge.h5ad\", adata)"
   ]
  },
  {
   "cell_type": "code",
   "execution_count": 4,
   "id": "cc396231-74f9-4090-950a-9e308000fe77",
   "metadata": {},
   "outputs": [],
   "source": [
    "ent_adata = sc.read(cmc_dir+'qc_scanpy/ent_N_cluster_rawcount.h5ad')\n",
    "nn_adata = sc.read(cmc_dir+'qc_scanpy/nn_N_clusters_rawcount.h5ad')\n",
    "\n",
    "ent_adata.obs['dataset']='ENT'\n",
    "nn_adata.obs['dataset']='NN'\n",
    "\n",
    "nn_adata.obs['Set']=nn_adata.obs['orig.ident']\n",
    "\n",
    "adata=ad.concat([ent_adata,nn_adata], join=\"outer\")\n",
    "adata.obs.Sex[adata.obs.Sex=='male']='Male'\n",
    "\n",
    "sc.pp.filter_genes(adata, min_cells=3)\n",
    "\n",
    "del adata.obsm"
   ]
  },
  {
   "cell_type": "code",
   "execution_count": 5,
   "id": "b37c7986-9b79-4a6c-ad29-790fcc545d7f",
   "metadata": {},
   "outputs": [],
   "source": [
    "sc.write(cmc_dir+\"qc_scanpy/ent_nn_merge_rawcount.h5ad\", adata)"
   ]
  },
  {
   "cell_type": "code",
   "execution_count": null,
   "id": "574537b6-86c5-4370-b590-4bcbbd5db77a",
   "metadata": {},
   "outputs": [],
   "source": []
  },
  {
   "cell_type": "code",
   "execution_count": null,
   "id": "8ae763a6-75c9-4697-b5d6-bdb96060ef58",
   "metadata": {},
   "outputs": [],
   "source": []
  }
 ],
 "metadata": {
  "kernelspec": {
   "display_name": "Py39_R43_Ju10_ipykernel",
   "language": "python",
   "name": "py39_r43_ju10_ipykernel"
  },
  "language_info": {
   "codemirror_mode": {
    "name": "ipython",
    "version": 3
   },
   "file_extension": ".py",
   "mimetype": "text/x-python",
   "name": "python",
   "nbconvert_exporter": "python",
   "pygments_lexer": "ipython3",
   "version": "3.9.19"
  }
 },
 "nbformat": 4,
 "nbformat_minor": 5
}
