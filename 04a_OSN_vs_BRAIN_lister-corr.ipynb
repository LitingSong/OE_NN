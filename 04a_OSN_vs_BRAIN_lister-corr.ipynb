{
 "cells": [
  {
   "cell_type": "code",
   "execution_count": 6,
   "id": "719882a9-9c88-49f3-b053-8f8df92cdd65",
   "metadata": {},
   "outputs": [],
   "source": [
    "library(ggplot2)\n",
    "library(scattermore)\n",
    "# integration data\n",
    "# \n",
    "\n",
    "# https=//satijalab.org/seurat/articles/seurat5_integration\n",
    "\n",
    ".libPaths(c('/sc/arion/projects/CommonMind/liting/conda/envs/Py39_R43_Ju10/lib/R/library',.libPaths()))\n",
    "library(RColorBrewer)\n",
    "library(scales)\n",
    "library(schard)\n",
    "library(SeuratWrappers)\n",
    "library(ggVennDiagram)\n",
    "library(Seurat)\n",
    "library(slingshot)\n",
    "library(ComplexHeatmap)\n",
    "library(circlize)\n",
    "library(dplyr)\n",
    "library(zellkonverter)\n",
    "# functions \n",
    "# intergrate NN and ENT data, and perform trajectory inference\n",
    "\n",
    "library(Seurat)\n",
    "library(dplyr)\n",
    "library(Seurat)\n",
    "library(patchwork)\n",
    "\n",
    "library(BiocManager)\n",
    "\n",
    "library(scuttle)\n",
    "library(reticulate)\n",
    "library(Seurat)\n",
    "library(uwot)\n",
    "library(stringr)\n",
    "\n",
    "\n",
    "library(ggplot2)\n",
    "library(ggplot2)\n",
    "library(scattermore)\n",
    "\n",
    "# https=//satijalab.org/seurat/articles/seurat5_integration\n",
    "# intergrate NN and ENT data, and perform trajectory inference\n",
    "options(repr.plot.width = 7, repr.plot.height = 5)"
   ]
  },
  {
   "cell_type": "code",
   "execution_count": null,
   "id": "8c5bcb6b-6cc8-4183-9682-9d2c5aee437e",
   "metadata": {},
   "outputs": [],
   "source": []
  },
  {
   "cell_type": "code",
   "execution_count": 3,
   "id": "bd1504d2-df40-402d-a13b-7ada25c8d091",
   "metadata": {},
   "outputs": [
    {
     "name": "stderr",
     "output_type": "stream",
     "text": [
      "Warning message:\n",
      "“\u001b[1m\u001b[22mThe names of these selected \u001b[32muns$major_clust_colors_dict\u001b[39m items have been\n",
      "modified to match R conventions: \u001b[32m'L2-3_CUX2' -> 'L2.3_CUX2'\u001b[39m, \u001b[32m'L5-6_THEMIS' ->\u001b[39m\n",
      "\u001b[32m'L5.6_THEMIS'\u001b[39m, \u001b[32m'L5-6_TLE4' -> 'L5.6_TLE4'\u001b[39m, and \u001b[32m'Poor-Quality' -> 'Poor.Quality'\u001b[39m”\n",
      "Warning message:\n",
      "“\u001b[1m\u001b[22mThe names of these selected \u001b[32muns\u001b[39m items have been modified to match R\n",
      "conventions: \u001b[32m'Astro_GFAP_dev-traj_colors' -> 'Astro_GFAP_dev.traj_colors'\u001b[39m,\n",
      "\u001b[32m'Astro_SLC1A2_dev-traj_colors' -> 'Astro_SLC1A2_dev.traj_colors'\u001b[39m,\n",
      "\u001b[32m'CCK_RELN_dev-traj_colors' -> 'CCK_RELN_dev.traj_colors'\u001b[39m,\n",
      "\u001b[32m'CCK_SORCS1_dev-traj_colors' -> 'CCK_SORCS1_dev.traj_colors'\u001b[39m,\n",
      "\u001b[32m'CCK_SYT6_dev-traj_colors' -> 'CCK_SYT6_dev.traj_colors'\u001b[39m,\n",
      "\u001b[32m'ID2_CSMD1_dev-traj_colors' -> 'ID2_CSMD1_dev.traj_colors'\u001b[39m,\n",
      "\u001b[32m'L2_CUX2_LAMP5_dev-traj_colors' -> 'L2_CUX2_LAMP5_dev.traj_colors'\u001b[39m,\n",
      "\u001b[32m'L3_CUX2_PRSS12_dev-traj_colors' -> 'L3_CUX2_PRSS12_dev.traj_colors'\u001b[39m,\n",
      "\u001b[32m'L4_RORB_LRRK1_dev-traj_colors' -> 'L4_RORB_LRRK1_dev.traj_colors'\u001b[39m,\n",
      "\u001b[32m'L4_RORB_MET_dev-traj_colors' -> 'L4_RORB_MET_dev.traj_colors'\u001b[39m,\n",
      "\u001b[32m'L4_RORB_MME_dev-traj_colors' -> 'L4_RORB_MME_dev.traj_colors'\u001b[39m,\n",
      "\u001b[32m'L5-6_THEMIS_CNR1_dev-traj_colors' -> 'L5.6_THEMIS_CNR1_dev.traj_colors'\u001b[39m,\n",
      "\u001b[32m'L5-6_THEMIS_NTNG2_dev-traj_colors' -> 'L5.6_THEMIS_NTNG2_dev.traj_colors'\u001b[39m,\n",
      "\u001b[32m'L5-6_TLE4_HTR2C_dev-traj_colors' -> 'L5.6_TLE4_HTR2C_dev.traj_colors'\u001b[39m,\n",
      "\u001b[32m'L5-6_TLE4_SCUBE1_dev-traj_colors' -> 'L5.6_TLE4_SCUBE1_dev.traj_colors'\u001b[39m,\n",
      "\u001b[32m'L5-6_TLE4_SORCS1_dev-traj_colors' -> 'L5.6_TLE4_SORCS1_dev.traj_colors'\u001b[39m,\n",
      "\u001b[32m'LAMP5_CCK_dev-traj_colors' -> 'LAMP5_CCK_dev.traj_colors'\u001b[39m,\n",
      "\u001b[32m'LAMP5_NDNF_dev-traj_colors' -> 'LAMP5_NDNF_dev.traj_colors'\u001b[39m, …,\n",
      "\u001b[32m'mj_dev_traj_L5-6_TLE4_colors' -> 'mj_dev_traj_L5.6_TLE4_colors'\u001b[39m, and\n",
      "\u001b[32m'mj_dev_traj_Poor-Quality_colors' -> 'mj_dev_traj_Poor.Quality_colors'\u001b[39m”\n",
      "Warning message:\n",
      "“\u001b[1m\u001b[22mThe names of these selected \u001b[32mvar\u001b[39m columns have been modified to match R\n",
      "conventions: \u001b[32m'non-unique_names' -> 'non.unique_names'\u001b[39m”\n",
      "Warning message:\n",
      "“\u001b[1m\u001b[22mThe names of these selected \u001b[32mobs\u001b[39m columns have been modified to match R\n",
      "conventions: \u001b[32m'RL#' -> 'RL.'\u001b[39m, \u001b[32m'Brain Regions*' -> 'Brain.Regions.'\u001b[39m, \u001b[32m'Cause of\u001b[39m\n",
      "\u001b[32mDeath' -> 'Cause.of.Death'\u001b[39m, \u001b[32m'ICD-10 Code' -> 'ICD.10.Code'\u001b[39m, \u001b[32m'ICD-10 category'\u001b[39m\n",
      "\u001b[32m-> 'ICD.10.category'\u001b[39m, \u001b[32m'Oxygen/No Oxygen' -> 'Oxygen.No.Oxygen'\u001b[39m,\n",
      "\u001b[32m'Date-of-Collection' -> 'Date.of.Collection'\u001b[39m, \u001b[32m'Library Prep Date' ->\u001b[39m\n",
      "\u001b[32m'Library.Prep.Date'\u001b[39m, \u001b[32m'Library Prep Lot' -> 'Library.Prep.Lot'\u001b[39m, \u001b[32m'mat/dev' ->\u001b[39m\n",
      "\u001b[32m'mat.dev'\u001b[39m, \u001b[32m'combined-leiden' -> 'combined.leiden'\u001b[39m, \u001b[32m'Astro_GFAP_dev-traj' ->\u001b[39m\n",
      "\u001b[32m'Astro_GFAP_dev.traj'\u001b[39m, \u001b[32m'Astro_SLC1A2_dev-traj' -> 'Astro_SLC1A2_dev.traj'\u001b[39m,\n",
      "\u001b[32m'L2_CUX2_LAMP5_dev-traj' -> 'L2_CUX2_LAMP5_dev.traj'\u001b[39m, \u001b[32m'L3_CUX2_PRSS12_dev-traj'\u001b[39m\n",
      "\u001b[32m-> 'L3_CUX2_PRSS12_dev.traj'\u001b[39m, \u001b[32m'L4_RORB_LRRK1_dev-traj' ->\u001b[39m\n",
      "\u001b[32m'L4_RORB_LRRK1_dev.traj'\u001b[39m, \u001b[32m'L4_RORB_MET_dev-traj' -> 'L4_RORB_MET_dev.traj'\u001b[39m,\n",
      "\u001b[32m'L4_RORB_MME_dev-traj' -> 'L4_RORB_MME_dev.traj'\u001b[39m, …, \u001b[32m'mj_dev_traj_L5-6_THEMIS'\u001b[39m\n",
      "\u001b[32m-> 'mj_dev_traj_L5.6_THEMIS'\u001b[39m, and \u001b[32m'mj_dev_traj_Poor-Quality' ->\u001b[39m\n",
      "\u001b[32m'mj_dev_traj_Poor.Quality'\u001b[39m”\n"
     ]
    }
   ],
   "source": [
    "ent_N <- readRDS('/sc/arion/projects/CommonMind/roussp01a/ENT/snRNAseq/qc_scanpy/ent_nn_merge_cca.rds')\n",
    "ent_N[[\"RNA\"]] <- as(object = ent_N[[\"RNA\"]], Class = \"Assay5\")\n",
    "ent_N <- JoinLayers(ent_N)\n",
    "\n",
    "lister <- readH5AD('/sc/arion/projects/CommonMind/aging/hui/files/lister_processed.h5ad', use_hdf5=TRUE, verbose=F)\n",
    "lister@colData$stage_celltype <- paste(lister@colData$stage_id,lister@colData$major_clust)"
   ]
  },
  {
   "cell_type": "code",
   "execution_count": null,
   "id": "cf0ca027-e17a-4088-b6df-6904a306f605",
   "metadata": {},
   "outputs": [],
   "source": []
  },
  {
   "cell_type": "code",
   "execution_count": 54,
   "id": "216bfd37-f3a9-4560-9772-67e25d6cb38d",
   "metadata": {},
   "outputs": [
    {
     "name": "stderr",
     "output_type": "stream",
     "text": [
      "Warning message:\n",
      "“Feature names cannot have underscores ('_'), replacing with dashes ('-')”\n",
      "Warning message:\n",
      "“[[<- defined for objects of type \"S4\" only for subclasses of environment”\n"
     ]
    }
   ],
   "source": [
    "#lister <- readH5AD('/sc/arion/projects/CommonMind/aging/hui/files/lister_processed.h5ad', use_hdf5=TRUE, verbose=F)\n",
    "lister_hvg <- read.csv('lister_hvg.csv')\n",
    "\n",
    "\n",
    "#meta.data <- subset(lister@colData, cell_type %in% c(\"PN\") )\n",
    "meta.data <- subset(lister@colData , !cell_type %in%c('Poor-Quality'))\n",
    "set.seed(123)\n",
    "\n",
    "meta.data$name <- rownames(meta.data)\n",
    "#meta.data <- meta.data[sample(1:nrow(meta.data),50000),]\n",
    "ExN_data <- lister[,rownames(meta.data)]\n",
    "\n",
    "# meta.data <- as.data.frame(meta.data)%>%group_by(stage_id)%>%sample_n(3000)\n",
    "# ExN_data <- lister[,meta.data$name]\n",
    "\n",
    "\n",
    "\n",
    "\n",
    "ExN_data <- CreateSeuratObject(counts = as(ExN_data@assays@data$X,\"sparseMatrix\"), meta.data = meta.data)\n",
    "ExN_data$major_clust <- meta.data$major_clust\n",
    "ExN_data$stage_id <- meta.data$stage_id\n",
    "ExN_data$cluster_stage <- paste( ExN_data$stage_id, ExN_data$major_clust)\n",
    "\n",
    "\n",
    "library(edgeR)\n",
    "load('/sc/arion/projects/roussp01a/liting/Olf/data/DEG_trend_Olf_k7_graph.RData')\n",
    "\n",
    "# pseudo_bulk\n",
    "pseudo_cluster <- as.data.frame(AggregateExpression(ExN_data, assays = \"RNA\", return.seurat = F, group.by = c('major_clust', \"cluster_stage\",'stage_id')[1])$RNA)\n",
    "\n",
    "# pseudo_bulk ENT\n",
    "ent_N$cca_N_types_stage_dataset <- paste(ent_N$cca_N_types_stage,ent_N$dataset)\n",
    "pseudo_cluster_ENT <- as.data.frame(AggregateExpression(ent_N, assays = \"RNA\", return.seurat = F, group.by = c(\"cca_N_types_stage\"))$RNA)#'dataset',\n",
    "\n",
    "pseudo_cluster <- log(cpm(pseudo_cluster+1))\n",
    "pseudo_cluster_ENT <- log(cpm(pseudo_cluster_ENT+1))\n",
    "colnames(pseudo_cluster_ENT) <- gsub('-','_',colnames(pseudo_cluster_ENT))\n",
    "colnames(pseudo_cluster) <- gsub('-','_',colnames(pseudo_cluster))\n",
    "\n",
    "lister_hvgs <- lister_hvg$X[lister_hvg$highly_variable=='True']\n"
   ]
  },
  {
   "cell_type": "code",
   "execution_count": 55,
   "id": "8f52e874-173d-43e5-8d7e-a23ffd52957c",
   "metadata": {},
   "outputs": [
    {
     "name": "stderr",
     "output_type": "stream",
     "text": [
      "Finding variable features for layer counts\n",
      "\n",
      "Finding variable features for layer counts\n",
      "\n"
     ]
    }
   ],
   "source": [
    "ExN_data <- FindVariableFeatures(ExN_data, nfeatures = 3000)\n",
    "ent_N <- FindVariableFeatures(ent_N, nfeatures = 3000) # for identify DEGs using slingshot"
   ]
  },
  {
   "cell_type": "code",
   "execution_count": 56,
   "id": "3884d348-2192-41e6-828c-cb708b602d7c",
   "metadata": {},
   "outputs": [],
   "source": [
    "\n",
    "corr_he <- c()\n",
    "for (ct1 in colnames(pseudo_cluster_ENT)){\n",
    "    for (ct2 in colnames(pseudo_cluster)){\n",
    "        \n",
    "        intersect_genes <- intersect( rownames(pseudo_cluster), rownames(pseudo_cluster_ENT))\n",
    "        intersect_genes <- intersect(intersect(VariableFeatures(ExN_data),intersect_genes),VariableFeatures(ent_N))\n",
    "        #intersect_genes <- intersect(intersect(lister_hvgs,intersect_genes),VariableFeatures(ent_N))\n",
    "        pseudo_clusterx <- pseudo_cluster[intersect_genes,ct2]\n",
    "        pseudo_cluster_ENTx <- pseudo_cluster_ENT[intersect_genes,ct1]\n",
    "        x= cor(pseudo_clusterx,pseudo_cluster_ENTx,method = 'pearson')\n",
    "        names(x) <- paste(ct1,ct2)\n",
    "        corr_he <- c(corr_he,x)\n",
    "    } \n",
    "}\n",
    "\n",
    "corr_he <- as.data.frame(corr_he)\n",
    "corr_he$OSN <- str_split(rownames(corr_he),pattern = ' ',simplify = T)[,1]\n",
    "corr_he$Brain <- str_split(rownames(corr_he),pattern = ' ',simplify = T)[,2]\n",
    "\n",
    "#corr_he$OSN <- str_split(rownames(corr_he),pattern = ' ',simplify = T)[,1]\n",
    "\n",
    "# corr_he$Brain <- str_split(rownames(corr_he),pattern = ' ',simplify = T)[,3]\n",
    "\n",
    "# corr_he$OSN <- paste(str_split(rownames(corr_he),pattern = ' ',simplify = T)[,1], \n",
    "#                        str_split(rownames(corr_he),pattern = ' ',simplify = T)[,2])\n"
   ]
  },
  {
   "cell_type": "code",
   "execution_count": 57,
   "id": "32f4ea0c-2fd0-4b24-8162-b3e88356e00f",
   "metadata": {},
   "outputs": [
    {
     "name": "stderr",
     "output_type": "stream",
     "text": [
      "Warning message in geom_tile(aes(mapping = corr_he)):\n",
      "“\u001b[1m\u001b[22mIgnoring unknown aesthetics: \u001b[32mmapping\u001b[39m”\n"
     ]
    },
    {
     "data": {
      "text/html": [
       "<strong>pdf:</strong> 2"
      ],
      "text/latex": [
       "\\textbf{pdf:} 2"
      ],
      "text/markdown": [
       "**pdf:** 2"
      ],
      "text/plain": [
       "pdf \n",
       "  2 "
      ]
     },
     "metadata": {},
     "output_type": "display_data"
    },
    {
     "data": {
      "image/png": "[encoded data removed]",
      "text/plain": [
       "plot without title"
      ]
     },
     "metadata": {
      "image/png": {
       "height": 360,
       "width": 360
      }
     },
     "output_type": "display_data"
    }
   ],
   "source": [
    "#corr_he\n",
    "options(repr.plot.width = 6, repr.plot.height = 6) \n",
    "ggplot(corr_he, aes(x=OSN, y=Brain, fill=corr_he))+\n",
    "geom_tile(aes(mapping = corr_he))\n",
    "\n",
    "library(tidyr)\n",
    "library(dplyr)\n",
    "library(tibble)\n",
    "\n",
    "xxx <- corr_he %>%\n",
    "  pivot_wider(names_from = Brain, values_from = corr_he,id_cols = OSN)\n",
    "\n",
    "\n",
    "xxx <- column_to_rownames(xxx, var = \"OSN\")\n",
    "xxxx <- apply(xxx,1,scale)\n",
    "rownames(xxxx) <- colnames(xxx)\n",
    "\n",
    "celltype_meta <- lister@colData[,c( 'major_clust',\"cell_type\")]\n",
    "rownames(celltype_meta) <- celltype_meta$major_clust\n",
    "celltype_meta$cell_type <- as.character(celltype_meta$cell_type)\n",
    "celltype_meta$cell_type[celltype_meta$cell_type=='PN'] <- 'EN'\n",
    "\n",
    "cell_typecolor <- c( 'EN'= \"#8DD3C7\",'IN'=  \"#FB8072\",'Non-Neu'= \"#BEBADA\")\n",
    "rownames(celltype_meta) <- gsub('-','_',rownames(celltype_meta))\n",
    " \n",
    "\n",
    "\n",
    "ComplexHeatmap::draw(Heatmap(\n",
    "    xxxx[,c(2,1,3,4)],    \n",
    "    cluster_rows = F,\n",
    "    cluster_columns              = F,\n",
    "    name='scaled_corr',\n",
    "    col= colorRamp2(seq(from=min(xxxx),to=max(xxxx),length=9),rev(brewer.pal(11, \"RdBu\")[c(-1,-11)])),\n",
    "    row_gap = unit(c(2.5), \"mm\"),\n",
    "    show_row_names               = T,\n",
    "    show_column_names            = T,\n",
    "    show_row_dend = T,\n",
    "        left_annotation = rowAnnotation(\n",
    "    cell_class= celltype_meta[rownames(xxxx),'cell_type'],\n",
    "   col = list(cell_class = cell_typecolor)\n",
    "  )\n",
    "))\n",
    "\n",
    "\n",
    "\n",
    "\n",
    "#dev.print(pdf, file='./figures/osn_enstage_corr.pdf', height=4, width=5)\n",
    "\n",
    "dev.print(pdf, file=paste0('./figures/osn_major_clust.pdf'), height=6, width=5)"
   ]
  },
  {
   "cell_type": "code",
   "execution_count": null,
   "id": "1eac9875-9297-47d1-9995-decd0b19d8be",
   "metadata": {},
   "outputs": [],
   "source": []
  },
  {
   "cell_type": "code",
   "execution_count": null,
   "id": "c3b3dc92-9952-43a5-be6c-7992543fc312",
   "metadata": {},
   "outputs": [],
   "source": []
  },
  {
   "cell_type": "code",
   "execution_count": null,
   "id": "04235d9c-132a-46d8-aa11-395d4a299496",
   "metadata": {},
   "outputs": [],
   "source": []
  },
  {
   "cell_type": "code",
   "execution_count": null,
   "id": "ceb1469a-02b1-4a55-94af-36aec1109288",
   "metadata": {},
   "outputs": [],
   "source": []
  },
  {
   "cell_type": "code",
   "execution_count": 48,
   "id": "f2656bd9-97ae-4ac4-a913-2fdf0f8545c7",
   "metadata": {},
   "outputs": [
    {
     "name": "stderr",
     "output_type": "stream",
     "text": [
      "Warning message:\n",
      "“Feature names cannot have underscores ('_'), replacing with dashes ('-')”\n",
      "Warning message:\n",
      "“[[<- defined for objects of type \"S4\" only for subclasses of environment”\n"
     ]
    }
   ],
   "source": [
    "#lister <- readH5AD('/sc/arion/projects/CommonMind/aging/hui/files/lister_processed.h5ad', use_hdf5=TRUE, verbose=F)\n",
    "lister_hvg <- read.csv('lister_hvg.csv')\n",
    "\n",
    "\n",
    "meta.data <- subset(lister@colData, cell_type %in% c(\"PN\") )\n",
    "#meta.data <- subset(lister@colData , !cell_type %in%c('Poor-Quality'))\n",
    "set.seed(123)\n",
    "#meta.data <- meta.data[sample(1:nrow(meta.data),50000),]\n",
    "\n",
    "ExN_data <- lister[,rownames(meta.data)]\n",
    "\n",
    "ExN_data <- CreateSeuratObject(counts = as(ExN_data@assays@data$X,\"sparseMatrix\"), meta.data = meta.data)\n",
    "ExN_data$major_clust <- meta.data$major_clust\n",
    "ExN_data$stage_id <- meta.data$stage_id\n",
    "ExN_data$cluster_stage <- paste( ExN_data$stage_id, ExN_data$major_clust)\n",
    "\n",
    "\n",
    "library(edgeR)\n",
    "load('/sc/arion/projects/roussp01a/liting/Olf/data/DEG_trend_Olf_k7_graph.RData')\n",
    "\n",
    "# pseudo_bulk\n",
    "pseudo_cluster <- as.data.frame(AggregateExpression(ExN_data, assays = \"RNA\", return.seurat = F, group.by = c('major_clust', \"cluster_stage\",'stage_id')[3])$RNA)\n",
    "\n",
    "# pseudo_bulk ENT\n",
    "pseudo_cluster_ENT <- as.data.frame(AggregateExpression(ent_N, assays = \"RNA\", return.seurat = F, group.by = c(\"cca_N_types_stage\"))$RNA)#'dataset',\n",
    "\n",
    "pseudo_cluster <- log(cpm(pseudo_cluster+1))\n",
    "pseudo_cluster_ENT <- log(cpm(pseudo_cluster_ENT+1))\n",
    "colnames(pseudo_cluster_ENT) <- gsub('-','_',colnames(pseudo_cluster_ENT))\n",
    "colnames(pseudo_cluster) <- gsub('-','_',colnames(pseudo_cluster))\n",
    "\n",
    "lister_hvgs <- lister_hvg$X[lister_hvg$highly_variable=='True']\n"
   ]
  },
  {
   "cell_type": "code",
   "execution_count": 52,
   "id": "0bb9f619-f9c6-4106-9836-c14c281f73cf",
   "metadata": {},
   "outputs": [
    {
     "name": "stderr",
     "output_type": "stream",
     "text": [
      "Finding variable features for layer counts\n",
      "\n",
      "Finding variable features for layer counts\n",
      "\n"
     ]
    }
   ],
   "source": [
    "\n",
    "corr_he <- c()\n",
    "ExN_data <- FindVariableFeatures(ExN_data, nfeatures = 2000)\n",
    "ent_N <- FindVariableFeatures(ent_N, nfeatures = 2000) # for identify DEGs using slingshotcorr_he <- c()\n",
    "for (ct1 in colnames(pseudo_cluster_ENT)){\n",
    "    for (ct2 in colnames(pseudo_cluster)){\n",
    "        \n",
    "        intersect_genes <- intersect( rownames(pseudo_cluster), rownames(pseudo_cluster_ENT))\n",
    "        #intersect_genes <- intersect(intersect(lister_hvgs,intersect_genes),VariableFeatures(ent_N))\n",
    "        intersect_genes <- intersect(intersect(VariableFeatures(ExN_data),intersect_genes),VariableFeatures(ent_N))\n",
    "        \n",
    "        pseudo_clusterx <- pseudo_cluster[intersect_genes,ct2]\n",
    "        pseudo_cluster_ENTx <- pseudo_cluster_ENT[intersect_genes,ct1]\n",
    "        x= cor(pseudo_clusterx,pseudo_cluster_ENTx,method = 'pearson')\n",
    "        \n",
    "        names(x) <- paste(ct1,ct2)\n",
    "        corr_he <- c(corr_he,x)\n",
    "    } \n",
    "}\n",
    "\n",
    "corr_he <- as.data.frame(corr_he)\n",
    "corr_he$OSN <- str_split(rownames(corr_he),pattern = ' ',simplify = T)[,1]\n",
    "corr_he$Brain <- str_split(rownames(corr_he),pattern = ' ',simplify = T)[,2]\n",
    "\n"
   ]
  },
  {
   "cell_type": "code",
   "execution_count": null,
   "id": "80d7fa97-0b9b-4022-bbd7-c1bfb331dcac",
   "metadata": {},
   "outputs": [],
   "source": []
  },
  {
   "cell_type": "code",
   "execution_count": 53,
   "id": "9f218e4f-da4a-445c-b549-996f07cc7721",
   "metadata": {},
   "outputs": [
    {
     "name": "stderr",
     "output_type": "stream",
     "text": [
      "Warning message in geom_tile(aes(mapping = corr_he)):\n",
      "“\u001b[1m\u001b[22mIgnoring unknown aesthetics: \u001b[32mmapping\u001b[39m”\n"
     ]
    },
    {
     "data": {
      "text/html": [
       "<strong>pdf:</strong> 2"
      ],
      "text/latex": [
       "\\textbf{pdf:} 2"
      ],
      "text/markdown": [
       "**pdf:** 2"
      ],
      "text/plain": [
       "pdf \n",
       "  2 "
      ]
     },
     "metadata": {},
     "output_type": "display_data"
    },
    {
     "data": {
      "image/png": "[encoded data removed]",
      "text/plain": [
       "plot without title"
      ]
     },
     "metadata": {
      "image/png": {
       "height": 360,
       "width": 360
      }
     },
     "output_type": "display_data"
    }
   ],
   "source": [
    "#corr_he\n",
    "options(repr.plot.width = 6, repr.plot.height = 6) \n",
    "ggplot(corr_he, aes(x=OSN, y=Brain, fill=corr_he))+\n",
    "geom_tile(aes(mapping = corr_he))\n",
    "\n",
    "library(tidyr)\n",
    "library(dplyr)\n",
    "library(tibble)\n",
    "\n",
    "xxx <- corr_he %>%\n",
    "  pivot_wider(names_from = Brain, values_from = corr_he,id_cols = OSN)\n",
    "\n",
    "\n",
    "xxx <- column_to_rownames(xxx, var = \"OSN\")\n",
    "xxxx <- apply(xxx,1,scale)\n",
    "rownames(xxxx) <- colnames(xxx)\n",
    "\n",
    "\n",
    "\n",
    "ComplexHeatmap::draw(Heatmap(\n",
    "    xxxx[rev(c(4,6,5,3,1,2)),c(2,1,3,4)],    \n",
    "    cluster_rows = F,\n",
    "    cluster_columns              = F,\n",
    "    name='scaled_corr',\n",
    "    col= colorRamp2(seq(from=min(xxxx),to=max(xxxx),length=9),rev(brewer.pal(11, \"RdBu\")[c(-1,-11)])),\n",
    "    row_gap = unit(c(2.5), \"mm\"),\n",
    "    show_row_names               = T,\n",
    "    show_column_names            = T,\n",
    "    show_row_dend = T,\n",
    "\n",
    "  \n",
    "))\n",
    "\n",
    "\n",
    "\n",
    "\n",
    "dev.print(pdf, file='./figures/osn_enstage_corr.pdf', height=4, width=4.5)\n",
    "\n",
    "#dev.print(pdf, file=paste0('./figures/osn_major_clust.pdf'), height=6, width=5)"
   ]
  },
  {
   "cell_type": "code",
   "execution_count": null,
   "id": "13dbdeb1-ab00-42d0-a158-848a829cc162",
   "metadata": {},
   "outputs": [],
   "source": []
  },
  {
   "cell_type": "code",
   "execution_count": null,
   "id": "fe794808-c0fd-4fc4-8a59-a4b746b25027",
   "metadata": {},
   "outputs": [],
   "source": []
  },
  {
   "cell_type": "code",
   "execution_count": null,
   "id": "012a13a1-a8e9-4e05-9be4-b5441d7502c2",
   "metadata": {},
   "outputs": [],
   "source": []
  },
  {
   "cell_type": "code",
   "execution_count": null,
   "id": "fa18721e-66e2-49b3-b00f-1f4492a5607c",
   "metadata": {},
   "outputs": [],
   "source": []
  },
  {
   "cell_type": "code",
   "execution_count": null,
   "id": "99e945fc-6a18-41df-8689-ae80bc6b01f3",
   "metadata": {},
   "outputs": [],
   "source": []
  }
 ],
 "metadata": {
  "kernelspec": {
   "display_name": "R",
   "language": "R",
   "name": "ir"
  },
  "language_info": {
   "codemirror_mode": "r",
   "file_extension": ".r",
   "mimetype": "text/x-r-source",
   "name": "R",
   "pygments_lexer": "r",
   "version": "4.3.1"
  }
 },
 "nbformat": 4,
 "nbformat_minor": 5
}
