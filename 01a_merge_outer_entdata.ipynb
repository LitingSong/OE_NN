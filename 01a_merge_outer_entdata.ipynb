{
 "cells": [
  {
   "cell_type": "code",
   "execution_count": 1,
   "id": "b6a5d0f2-3ee0-47f5-a45d-fb0e6e4e58ac",
   "metadata": {},
   "outputs": [],
   "source": [
    "import scanpy as sc\n",
    "from glob import glob\n",
    "import scanpy as sc, anndata as ad, numpy as np, pandas as pd\n"
   ]
  },
  {
   "cell_type": "code",
   "execution_count": 3,
   "id": "3f5051b2-b4fa-4489-b719-2a73439a4a4d",
   "metadata": {},
   "outputs": [],
   "source": [
    "fhs=glob('/sc/arion/projects/CommonMind/claire/ENT/snRNA_scRNA_Pipeline/final_count_matrix/solo/*/*h5ad',recursive=True)\n",
    "dats=[sc.read_h5ad(x) for x in fhs]"
   ]
  },
  {
   "cell_type": "code",
   "execution_count": 7,
   "id": "225f6faa-69f8-43d5-98cd-408d1f715a6d",
   "metadata": {},
   "outputs": [
    {
     "name": "stderr",
     "output_type": "stream",
     "text": [
      "/hpc/users/songl05/.conda/envs/Py39_R43_Ju10/lib/python3.9/site-packages/anndata/_core/anndata.py:1818: UserWarning: Observation names are not unique. To make them unique, call `.obs_names_make_unique`.\n",
      "  utils.warn_names_duplicates(\"obs\")\n"
     ]
    }
   ],
   "source": [
    "adata=ad.concat(dats, join=\"outer\")"
   ]
  },
  {
   "cell_type": "code",
   "execution_count": 13,
   "id": "196f93d6-b4eb-43ff-a8b2-701841a89ca1",
   "metadata": {},
   "outputs": [],
   "source": [
    "adata.write_h5ad('/sc/arion/projects/CommonMind/roussp01a/ENT/snRNAseq/qc_scanpy/ENT_outerMerge.h5ad')"
   ]
  },
  {
   "cell_type": "code",
   "execution_count": null,
   "id": "8f613546-05fb-49a4-b25e-b964c8e77dc7",
   "metadata": {},
   "outputs": [],
   "source": []
  }
 ],
 "metadata": {
  "kernelspec": {
   "display_name": "Py39_R43_Ju10_ipykernel",
   "language": "python",
   "name": "py39_r43_ju10_ipykernel"
  },
  "language_info": {
   "codemirror_mode": {
    "name": "ipython",
    "version": 3
   },
   "file_extension": ".py",
   "mimetype": "text/x-python",
   "name": "python",
   "nbconvert_exporter": "python",
   "pygments_lexer": "ipython3",
   "version": "3.9.19"
  }
 },
 "nbformat": 4,
 "nbformat_minor": 5
}
